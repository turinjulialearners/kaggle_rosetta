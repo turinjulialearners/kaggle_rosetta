{
 "cells": [
  {
   "cell_type": "markdown",
   "metadata": {},
   "source": [
    "Conversion of python notebook in Julia\n",
    "\n",
    "Original Notebook: https://www.kaggle.com/dlarionov/feature-engineering-xgboost\n",
    "\n",
    "Original Author: Denis Larionov"
   ]
  },
  {
   "cell_type": "markdown",
   "metadata": {},
   "source": [
    "This notebook is simpified version of the final project in the [How to Win a Data Science Competition: Learn from Top Kagglers](https://www.coursera.org/learn/competitive-data-science) course. Simplified means without ensembling.\n",
    "\n",
    "#### Pipline\n",
    "* load data\n",
    "* heal data and remove outliers\n",
    "* work with shops/items/cats objects and features\n",
    "* create matrix as product of item/shop pairs within each month in the train set\n",
    "* get monthly sales for each item/shop pair in the train set and merge it to the matrix\n",
    "* clip item_cnt_month by (0,20)\n",
    "* append test to the matrix, fill 34 month nans with zeros\n",
    "* merge shops/items/cats to the matrix\n",
    "* add target lag features\n",
    "* add mean encoded features\n",
    "* add price trend features\n",
    "* add month\n",
    "* add days\n",
    "* add months since last sale/months since first sale features\n",
    "* cut first year and drop columns which can not be calculated for the test set\n",
    "* select best features\n",
    "* set validation strategy 34 test, 33 validation, less than 33 train\n",
    "* fit the model, predict and clip targets for the test set"
   ]
  },
  {
   "cell_type": "code",
   "execution_count": 8,
   "metadata": {},
   "outputs": [
    {
     "name": "stderr",
     "output_type": "stream",
     "text": [
      "┌ Info: Precompiling MLLabelUtils [66a33bbf-0c2b-5fc8-a008-9da813334f0a]\n",
      "└ @ Base loading.jl:1186\n"
     ]
    }
   ],
   "source": [
    "using DataFrames\n",
    "using CSV\n",
    "using Plots\n",
    "import Seaborn\n",
    "const sns = Seaborn\n",
    "import PyPlot\n",
    "const plt = PyPlot\n",
    "using Statistics\n",
    "using MLLabelUtils"
   ]
  },
  {
   "cell_type": "code",
   "execution_count": 3,
   "metadata": {},
   "outputs": [
    {
     "name": "stdout",
     "output_type": "stream",
     "text": [
      "input loaded"
     ]
    }
   ],
   "source": [
    "items = CSV.read(\"input/items.csv\", copycols=true)\n",
    "shops = CSV.read(\"input/shops.csv\", copycols=true)\n",
    "cats  = CSV.read(\"input/item_categories.csv\", copycols=true)\n",
    "train = CSV.read(\"input/sales_train.csv\", copycols=true)\n",
    "test  = CSV.read(\"input/test.csv\", copycols=true)\n",
    "\n",
    "print(\"input loaded\")"
   ]
  },
  {
   "cell_type": "markdown",
   "metadata": {},
   "source": [
    "## Outliers\n",
    "\n",
    "There are items with strange prices and sales. After detailed exploration I decided to remove items with price > 100000 and sales > 1001 (1000 is ok)."
   ]
  },
  {
   "cell_type": "code",
   "execution_count": 4,
   "metadata": {},
   "outputs": [
    {
     "data": {
      "image/png": "[encoded data removed]",
      "text/plain": [
       "PyPlot.Figure(PyObject <Figure size 1000x400 with 1 Axes>)"
      ]
     },
     "metadata": {},
     "output_type": "display_data"
    },
    {
     "data": {
      "image/png": "[encoded data removed]",
      "text/plain": [
       "PyPlot.Figure(PyObject <Figure size 1000x400 with 1 Axes>)"
      ]
     },
     "metadata": {},
     "output_type": "display_data"
    },
    {
     "data": {
      "text/plain": [
       "PyObject <matplotlib.axes._subplots.AxesSubplot object at 0x7faebdd65860>"
      ]
     },
     "execution_count": 4,
     "metadata": {},
     "output_type": "execute_result"
    }
   ],
   "source": [
    "plt.figure(figsize=(10, 4))\n",
    "plt.xlim(-100, 3000)\n",
    "sns.boxplot(x=train.item_cnt_day)\n",
    "\n",
    "plt.figure(figsize=(10, 4))\n",
    "plt.xlim(minimum(train.item_price), maximum(train.item_price)*1.1)\n",
    "sns.boxplot(x=train.item_price)"
   ]
  },
  {
   "cell_type": "code",
   "execution_count": 5,
   "metadata": {
    "scrolled": true
   },
   "outputs": [
    {
     "data": {
      "text/html": [
       "<table class=\"data-frame\"><thead><tr><th></th><th>date</th><th>date_block_num</th><th>shop_id</th><th>item_id</th><th>item_price</th><th>item_cnt_day</th></tr><tr><th></th><th>String</th><th>Int64</th><th>Int64</th><th>Int64</th><th>Float64</th><th>Float64</th></tr></thead><tbody><p>2,935,847 rows × 6 columns</p><tr><th>1</th><td>02.01.2013</td><td>0</td><td>59</td><td>22154</td><td>999.0</td><td>1.0</td></tr><tr><th>2</th><td>03.01.2013</td><td>0</td><td>25</td><td>2552</td><td>899.0</td><td>1.0</td></tr><tr><th>3</th><td>05.01.2013</td><td>0</td><td>25</td><td>2552</td><td>899.0</td><td>-1.0</td></tr><tr><th>4</th><td>06.01.2013</td><td>0</td><td>25</td><td>2554</td><td>1709.05</td><td>1.0</td></tr><tr><th>5</th><td>15.01.2013</td><td>0</td><td>25</td><td>2555</td><td>1099.0</td><td>1.0</td></tr><tr><th>6</th><td>10.01.2013</td><td>0</td><td>25</td><td>2564</td><td>349.0</td><td>1.0</td></tr><tr><th>7</th><td>02.01.2013</td><td>0</td><td>25</td><td>2565</td><td>549.0</td><td>1.0</td></tr><tr><th>8</th><td>04.01.2013</td><td>0</td><td>25</td><td>2572</td><td>239.0</td><td>1.0</td></tr><tr><th>9</th><td>11.01.2013</td><td>0</td><td>25</td><td>2572</td><td>299.0</td><td>1.0</td></tr><tr><th>10</th><td>03.01.2013</td><td>0</td><td>25</td><td>2573</td><td>299.0</td><td>3.0</td></tr><tr><th>11</th><td>03.01.2013</td><td>0</td><td>25</td><td>2574</td><td>399.0</td><td>2.0</td></tr><tr><th>12</th><td>05.01.2013</td><td>0</td><td>25</td><td>2574</td><td>399.0</td><td>1.0</td></tr><tr><th>13</th><td>07.01.2013</td><td>0</td><td>25</td><td>2574</td><td>399.0</td><td>1.0</td></tr><tr><th>14</th><td>08.01.2013</td><td>0</td><td>25</td><td>2574</td><td>399.0</td><td>2.0</td></tr><tr><th>15</th><td>10.01.2013</td><td>0</td><td>25</td><td>2574</td><td>399.0</td><td>1.0</td></tr><tr><th>16</th><td>11.01.2013</td><td>0</td><td>25</td><td>2574</td><td>399.0</td><td>2.0</td></tr><tr><th>17</th><td>13.01.2013</td><td>0</td><td>25</td><td>2574</td><td>399.0</td><td>1.0</td></tr><tr><th>18</th><td>16.01.2013</td><td>0</td><td>25</td><td>2574</td><td>399.0</td><td>1.0</td></tr><tr><th>19</th><td>26.01.2013</td><td>0</td><td>25</td><td>2574</td><td>399.0</td><td>1.0</td></tr><tr><th>20</th><td>27.01.2013</td><td>0</td><td>25</td><td>2574</td><td>399.0</td><td>1.0</td></tr><tr><th>21</th><td>09.01.2013</td><td>0</td><td>25</td><td>2593</td><td>279.0</td><td>1.0</td></tr><tr><th>22</th><td>16.01.2013</td><td>0</td><td>25</td><td>2604</td><td>299.0</td><td>1.0</td></tr><tr><th>23</th><td>27.01.2013</td><td>0</td><td>25</td><td>2604</td><td>299.0</td><td>1.0</td></tr><tr><th>24</th><td>27.01.2013</td><td>0</td><td>25</td><td>2607</td><td>279.0</td><td>1.0</td></tr><tr><th>25</th><td>29.01.2013</td><td>0</td><td>25</td><td>2607</td><td>279.0</td><td>1.0</td></tr><tr><th>26</th><td>27.01.2013</td><td>0</td><td>25</td><td>2609</td><td>1699.0</td><td>1.0</td></tr><tr><th>27</th><td>06.01.2013</td><td>0</td><td>25</td><td>2548</td><td>1708.95</td><td>1.0</td></tr><tr><th>28</th><td>26.01.2013</td><td>0</td><td>25</td><td>2611</td><td>299.0</td><td>1.0</td></tr><tr><th>29</th><td>02.01.2013</td><td>0</td><td>25</td><td>2546</td><td>299.0</td><td>1.0</td></tr><tr><th>30</th><td>06.01.2013</td><td>0</td><td>25</td><td>2515</td><td>1649.0</td><td>1.0</td></tr><tr><th>&vellip;</th><td>&vellip;</td><td>&vellip;</td><td>&vellip;</td><td>&vellip;</td><td>&vellip;</td><td>&vellip;</td></tr></tbody></table>"
      ],
      "text/latex": [
       "\\begin{tabular}{r|cccccc}\n",
       "\t& date & date\\_block\\_num & shop\\_id & item\\_id & item\\_price & item\\_cnt\\_day\\\\\n",
       "\t\\hline\n",
       "\t& String & Int64 & Int64 & Int64 & Float64 & Float64\\\\\n",
       "\t\\hline\n",
       "\t1 & 02.01.2013 & 0 & 59 & 22154 & 999.0 & 1.0 \\\\\n",
       "\t2 & 03.01.2013 & 0 & 25 & 2552 & 899.0 & 1.0 \\\\\n",
       "\t3 & 05.01.2013 & 0 & 25 & 2552 & 899.0 & -1.0 \\\\\n",
       "\t4 & 06.01.2013 & 0 & 25 & 2554 & 1709.05 & 1.0 \\\\\n",
       "\t5 & 15.01.2013 & 0 & 25 & 2555 & 1099.0 & 1.0 \\\\\n",
       "\t6 & 10.01.2013 & 0 & 25 & 2564 & 349.0 & 1.0 \\\\\n",
       "\t7 & 02.01.2013 & 0 & 25 & 2565 & 549.0 & 1.0 \\\\\n",
       "\t8 & 04.01.2013 & 0 & 25 & 2572 & 239.0 & 1.0 \\\\\n",
       "\t9 & 11.01.2013 & 0 & 25 & 2572 & 299.0 & 1.0 \\\\\n",
       "\t10 & 03.01.2013 & 0 & 25 & 2573 & 299.0 & 3.0 \\\\\n",
       "\t11 & 03.01.2013 & 0 & 25 & 2574 & 399.0 & 2.0 \\\\\n",
       "\t12 & 05.01.2013 & 0 & 25 & 2574 & 399.0 & 1.0 \\\\\n",
       "\t13 & 07.01.2013 & 0 & 25 & 2574 & 399.0 & 1.0 \\\\\n",
       "\t14 & 08.01.2013 & 0 & 25 & 2574 & 399.0 & 2.0 \\\\\n",
       "\t15 & 10.01.2013 & 0 & 25 & 2574 & 399.0 & 1.0 \\\\\n",
       "\t16 & 11.01.2013 & 0 & 25 & 2574 & 399.0 & 2.0 \\\\\n",
       "\t17 & 13.01.2013 & 0 & 25 & 2574 & 399.0 & 1.0 \\\\\n",
       "\t18 & 16.01.2013 & 0 & 25 & 2574 & 399.0 & 1.0 \\\\\n",
       "\t19 & 26.01.2013 & 0 & 25 & 2574 & 399.0 & 1.0 \\\\\n",
       "\t20 & 27.01.2013 & 0 & 25 & 2574 & 399.0 & 1.0 \\\\\n",
       "\t21 & 09.01.2013 & 0 & 25 & 2593 & 279.0 & 1.0 \\\\\n",
       "\t22 & 16.01.2013 & 0 & 25 & 2604 & 299.0 & 1.0 \\\\\n",
       "\t23 & 27.01.2013 & 0 & 25 & 2604 & 299.0 & 1.0 \\\\\n",
       "\t24 & 27.01.2013 & 0 & 25 & 2607 & 279.0 & 1.0 \\\\\n",
       "\t25 & 29.01.2013 & 0 & 25 & 2607 & 279.0 & 1.0 \\\\\n",
       "\t26 & 27.01.2013 & 0 & 25 & 2609 & 1699.0 & 1.0 \\\\\n",
       "\t27 & 06.01.2013 & 0 & 25 & 2548 & 1708.95 & 1.0 \\\\\n",
       "\t28 & 26.01.2013 & 0 & 25 & 2611 & 299.0 & 1.0 \\\\\n",
       "\t29 & 02.01.2013 & 0 & 25 & 2546 & 299.0 & 1.0 \\\\\n",
       "\t30 & 06.01.2013 & 0 & 25 & 2515 & 1649.0 & 1.0 \\\\\n",
       "\t$\\dots$ & $\\dots$ & $\\dots$ & $\\dots$ & $\\dots$ & $\\dots$ & $\\dots$ \\\\\n",
       "\\end{tabular}\n"
      ],
      "text/plain": [
       "2935847×6 DataFrame. Omitted printing of 1 columns\n",
       "│ Row     │ date       │ date_block_num │ shop_id │ item_id │ item_price │\n",
       "│         │ \u001b[90mString\u001b[39m     │ \u001b[90mInt64\u001b[39m          │ \u001b[90mInt64\u001b[39m   │ \u001b[90mInt64\u001b[39m   │ \u001b[90mFloat64\u001b[39m    │\n",
       "├─────────┼────────────┼────────────────┼─────────┼─────────┼────────────┤\n",
       "│ 1       │ 02.01.2013 │ 0              │ 59      │ 22154   │ 999.0      │\n",
       "│ 2       │ 03.01.2013 │ 0              │ 25      │ 2552    │ 899.0      │\n",
       "│ 3       │ 05.01.2013 │ 0              │ 25      │ 2552    │ 899.0      │\n",
       "│ 4       │ 06.01.2013 │ 0              │ 25      │ 2554    │ 1709.05    │\n",
       "│ 5       │ 15.01.2013 │ 0              │ 25      │ 2555    │ 1099.0     │\n",
       "│ 6       │ 10.01.2013 │ 0              │ 25      │ 2564    │ 349.0      │\n",
       "│ 7       │ 02.01.2013 │ 0              │ 25      │ 2565    │ 549.0      │\n",
       "│ 8       │ 04.01.2013 │ 0              │ 25      │ 2572    │ 239.0      │\n",
       "│ 9       │ 11.01.2013 │ 0              │ 25      │ 2572    │ 299.0      │\n",
       "│ 10      │ 03.01.2013 │ 0              │ 25      │ 2573    │ 299.0      │\n",
       "⋮\n",
       "│ 2935837 │ 17.10.2015 │ 33             │ 25      │ 7338    │ 349.0      │\n",
       "│ 2935838 │ 24.10.2015 │ 33             │ 25      │ 7315    │ 399.0      │\n",
       "│ 2935839 │ 31.10.2015 │ 33             │ 25      │ 7409    │ 299.0      │\n",
       "│ 2935840 │ 11.10.2015 │ 33             │ 25      │ 7393    │ 349.0      │\n",
       "│ 2935841 │ 10.10.2015 │ 33             │ 25      │ 7384    │ 749.0      │\n",
       "│ 2935842 │ 09.10.2015 │ 33             │ 25      │ 7409    │ 299.0      │\n",
       "│ 2935843 │ 10.10.2015 │ 33             │ 25      │ 7409    │ 299.0      │\n",
       "│ 2935844 │ 09.10.2015 │ 33             │ 25      │ 7460    │ 299.0      │\n",
       "│ 2935845 │ 14.10.2015 │ 33             │ 25      │ 7459    │ 349.0      │\n",
       "│ 2935846 │ 22.10.2015 │ 33             │ 25      │ 7440    │ 299.0      │\n",
       "│ 2935847 │ 03.10.2015 │ 33             │ 25      │ 7460    │ 299.0      │"
      ]
     },
     "execution_count": 5,
     "metadata": {},
     "output_type": "execute_result"
    }
   ],
   "source": [
    "train = train[train.item_price.<100000, :]\n",
    "train = train[train.item_cnt_day.<1001, :]\n"
   ]
  },
  {
   "cell_type": "markdown",
   "metadata": {},
   "source": [
    "There is one item with price below zero. Fill it with median."
   ]
  },
  {
   "cell_type": "code",
   "execution_count": 6,
   "metadata": {},
   "outputs": [
    {
     "data": {
      "text/plain": [
       "1874.0"
      ]
     },
     "execution_count": 6,
     "metadata": {},
     "output_type": "execute_result"
    }
   ],
   "source": [
    "median_item_price = median(train[(train.shop_id.==32).&(train.item_id.==2973).&(train.date_block_num.==4).&(train.item_price.>0), :].item_price);\n",
    "train[train.item_price.<0, :item_price] = median_item_price"
   ]
  },
  {
   "cell_type": "markdown",
   "metadata": {},
   "source": [
    "Several shops are duplicates of each other (according to its name). Fix train and test set."
   ]
  },
  {
   "cell_type": "code",
   "execution_count": 7,
   "metadata": {},
   "outputs": [
    {
     "data": {
      "text/plain": [
       "11"
      ]
     },
     "execution_count": 7,
     "metadata": {},
     "output_type": "execute_result"
    }
   ],
   "source": [
    "# Якутск Орджоникидзе, 56\n",
    "train[train.shop_id .== 0, :shop_id] = 57\n",
    "test[test.shop_id .== 0, :shop_id] = 57\n",
    "# Якутск ТЦ \"Центральный\"\n",
    "train[train.shop_id .== 1, :shop_id] = 58\n",
    "test[test.shop_id .== 1, :shop_id] = 58\n",
    "# Жуковский ул. Чкалова 39м²\n",
    "train[train.shop_id .== 10, :shop_id] = 11\n",
    "test[test.shop_id .== 10, :shop_id] = 11"
   ]
  },
  {
   "cell_type": "markdown",
   "metadata": {},
   "source": [
    "## Shops/Cats/Items preprocessing\n",
    "Observations:\n",
    "* Each shop_name starts with the city name.\n",
    "* Each category contains type and subtype in its name."
   ]
  },
  {
   "cell_type": "code",
   "execution_count": 30,
   "metadata": {},
   "outputs": [
    {
     "data": {
      "text/html": [
       "<table class=\"data-frame\"><thead><tr><th></th><th>shop_id</th><th>city_code</th></tr><tr><th></th><th>Int64</th><th>Int64</th></tr></thead><tbody><p>60 rows × 2 columns</p><tr><th>1</th><td>0</td><td>1</td></tr><tr><th>2</th><td>1</td><td>1</td></tr><tr><th>3</th><td>2</td><td>2</td></tr><tr><th>4</th><td>3</td><td>3</td></tr><tr><th>5</th><td>4</td><td>4</td></tr><tr><th>6</th><td>5</td><td>5</td></tr><tr><th>7</th><td>6</td><td>6</td></tr><tr><th>8</th><td>7</td><td>6</td></tr><tr><th>9</th><td>8</td><td>6</td></tr><tr><th>10</th><td>9</td><td>7</td></tr><tr><th>11</th><td>10</td><td>8</td></tr><tr><th>12</th><td>11</td><td>8</td></tr><tr><th>13</th><td>12</td><td>9</td></tr><tr><th>14</th><td>13</td><td>10</td></tr><tr><th>15</th><td>14</td><td>10</td></tr><tr><th>16</th><td>15</td><td>11</td></tr><tr><th>17</th><td>16</td><td>12</td></tr><tr><th>18</th><td>17</td><td>13</td></tr><tr><th>19</th><td>18</td><td>13</td></tr><tr><th>20</th><td>19</td><td>14</td></tr><tr><th>21</th><td>20</td><td>15</td></tr><tr><th>22</th><td>21</td><td>15</td></tr><tr><th>23</th><td>22</td><td>15</td></tr><tr><th>24</th><td>23</td><td>15</td></tr><tr><th>25</th><td>24</td><td>15</td></tr><tr><th>26</th><td>25</td><td>15</td></tr><tr><th>27</th><td>26</td><td>15</td></tr><tr><th>28</th><td>27</td><td>15</td></tr><tr><th>29</th><td>28</td><td>15</td></tr><tr><th>30</th><td>29</td><td>15</td></tr><tr><th>&vellip;</th><td>&vellip;</td><td>&vellip;</td></tr></tbody></table>"
      ],
      "text/latex": [
       "\\begin{tabular}{r|cc}\n",
       "\t& shop\\_id & city\\_code\\\\\n",
       "\t\\hline\n",
       "\t& Int64 & Int64\\\\\n",
       "\t\\hline\n",
       "\t1 & 0 & 1 \\\\\n",
       "\t2 & 1 & 1 \\\\\n",
       "\t3 & 2 & 2 \\\\\n",
       "\t4 & 3 & 3 \\\\\n",
       "\t5 & 4 & 4 \\\\\n",
       "\t6 & 5 & 5 \\\\\n",
       "\t7 & 6 & 6 \\\\\n",
       "\t8 & 7 & 6 \\\\\n",
       "\t9 & 8 & 6 \\\\\n",
       "\t10 & 9 & 7 \\\\\n",
       "\t11 & 10 & 8 \\\\\n",
       "\t12 & 11 & 8 \\\\\n",
       "\t13 & 12 & 9 \\\\\n",
       "\t14 & 13 & 10 \\\\\n",
       "\t15 & 14 & 10 \\\\\n",
       "\t16 & 15 & 11 \\\\\n",
       "\t17 & 16 & 12 \\\\\n",
       "\t18 & 17 & 13 \\\\\n",
       "\t19 & 18 & 13 \\\\\n",
       "\t20 & 19 & 14 \\\\\n",
       "\t21 & 20 & 15 \\\\\n",
       "\t22 & 21 & 15 \\\\\n",
       "\t23 & 22 & 15 \\\\\n",
       "\t24 & 23 & 15 \\\\\n",
       "\t25 & 24 & 15 \\\\\n",
       "\t26 & 25 & 15 \\\\\n",
       "\t27 & 26 & 15 \\\\\n",
       "\t28 & 27 & 15 \\\\\n",
       "\t29 & 28 & 15 \\\\\n",
       "\t30 & 29 & 15 \\\\\n",
       "\t$\\dots$ & $\\dots$ & $\\dots$ \\\\\n",
       "\\end{tabular}\n"
      ],
      "text/plain": [
       "60×2 DataFrame\n",
       "│ Row │ shop_id │ city_code │\n",
       "│     │ \u001b[90mInt64\u001b[39m   │ \u001b[90mInt64\u001b[39m     │\n",
       "├─────┼─────────┼───────────┤\n",
       "│ 1   │ 0       │ 1         │\n",
       "│ 2   │ 1       │ 1         │\n",
       "│ 3   │ 2       │ 2         │\n",
       "│ 4   │ 3       │ 3         │\n",
       "│ 5   │ 4       │ 4         │\n",
       "│ 6   │ 5       │ 5         │\n",
       "│ 7   │ 6       │ 6         │\n",
       "│ 8   │ 7       │ 6         │\n",
       "│ 9   │ 8       │ 6         │\n",
       "│ 10  │ 9       │ 7         │\n",
       "⋮\n",
       "│ 50  │ 49      │ 26        │\n",
       "│ 51  │ 50      │ 26        │\n",
       "│ 52  │ 51      │ 26        │\n",
       "│ 53  │ 52      │ 27        │\n",
       "│ 54  │ 53      │ 27        │\n",
       "│ 55  │ 54      │ 28        │\n",
       "│ 56  │ 55      │ 29        │\n",
       "│ 57  │ 56      │ 30        │\n",
       "│ 58  │ 57      │ 1         │\n",
       "│ 59  │ 58      │ 1         │\n",
       "│ 60  │ 59      │ 31        │"
      ]
     },
     "execution_count": 30,
     "metadata": {},
     "output_type": "execute_result"
    }
   ],
   "source": [
    "shops[shops.shop_name .== \"Сергиев Посад ТЦ \\\"7Я\\\"\", :shop_name] = \"СергиевПосад ТЦ \\\"7Я\\\"\"\n",
    "shops[:city] = map(x -> split(x, \" \")[1], shops[:shop_name])\n",
    "shops[shops.city .== \"!Якутск\", :city] = \"Якутск\"\n",
    "shops[:city_code] =  convertlabel(LabelEnc.Indices{Int}, shops.city) \n",
    "shops = shops[[:shop_id, :city_code]]"
   ]
  },
  {
   "cell_type": "code",
   "execution_count": null,
   "metadata": {},
   "outputs": [],
   "source": [
    "cats['split'] = cats['item_category_name'].str.split('-')\n",
    "cats['type'] = cats['split'].map(lambda x: x[0].strip())\n",
    "cats['type_code'] = LabelEncoder().fit_transform(cats['type'])\n",
    "# if subtype is nan then type\n",
    "cats['subtype'] = cats['split'].map(lambda x: x[1].strip() if len(x) > 1 else x[0].strip())\n",
    "cats['subtype_code'] = LabelEncoder().fit_transform(cats['subtype'])\n",
    "cats = cats[['item_category_id','type_code', 'subtype_code']]\n",
    "\n",
    "items.drop(['item_name'], axis=1, inplace=True)"
   ]
  }
 ],
 "metadata": {
  "@webio": {
   "lastCommId": null,
   "lastKernelId": null
  },
  "kernelspec": {
   "display_name": "Julia 1.0.1",
   "language": "julia",
   "name": "julia-1.0"
  },
  "language_info": {
   "file_extension": ".jl",
   "mimetype": "application/julia",
   "name": "julia",
   "version": "1.1.0"
  }
 },
 "nbformat": 4,
 "nbformat_minor": 2
}
